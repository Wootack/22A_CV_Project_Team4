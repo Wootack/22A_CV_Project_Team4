{
 "cells": [
  {
   "cell_type": "code",
   "execution_count": 1,
   "metadata": {},
   "outputs": [],
   "source": [
    "import cv2\n",
    "import numpy as np\n",
    "%matplotlib inline\n"
   ]
  },
  {
   "cell_type": "code",
   "execution_count": 2,
   "metadata": {},
   "outputs": [],
   "source": [
    "image = '/home/donghohan/compvision/Computer-Vision-based-Offside-Detection-in-Soccer/dataset/Offside_Images/6.jpg'\n",
    "test_result = './'\n",
    "side = 'right'"
   ]
  },
  {
   "cell_type": "code",
   "execution_count": 5,
   "metadata": {},
   "outputs": [],
   "source": [
    "# selectedLines = get_vertical_lines(img , side)\n",
    "img = cv2.imread(image)\n",
    "selectedLines = []\n",
    "selectedLinesParams = []\n",
    "linesFound = False\n",
    "BlueRedMask = 100"
   ]
  },
  {
   "cell_type": "code",
   "execution_count": 14,
   "metadata": {},
   "outputs": [
    {
     "data": {
      "text/plain": [
       "True"
      ]
     },
     "execution_count": 14,
     "metadata": {},
     "output_type": "execute_result"
    }
   ],
   "source": [
    "hsv = cv2.cvtColor(img, cv2.COLOR_BGR2HSV)\n",
    "mask = cv2.inRange(hsv, (35, BlueRedMask, BlueRedMask), (70, 255,255))\n",
    "imask = mask>0\n",
    "cv2.imwrite(\"HSV.png\", hsv)\n",
    "cv2.imwrite(\"mask.png\", mask)\n",
    "\n"
   ]
  },
  {
   "cell_type": "code",
   "execution_count": 18,
   "metadata": {},
   "outputs": [
    {
     "data": {
      "text/plain": [
       "True"
      ]
     },
     "execution_count": 18,
     "metadata": {},
     "output_type": "execute_result"
    }
   ],
   "source": [
    "green = np.zeros_like(img, np.uint8)\n",
    "green[imask] = img[imask]\n",
    "gray = cv2.cvtColor(img,cv2.COLOR_BGR2GRAY)\n",
    "cv2.imwrite(\"green.png\", green)\n",
    "cv2.imwrite(\"gray.png\", gray)\n",
    "edges = cv2.Canny(green,150,250,apertureSize = 3)\n",
    "lines = cv2.HoughLines(edges,1,np.pi/180, 200) \n",
    "cv2.imwrite(\"edges.png\", edges)"
   ]
  },
  {
   "cell_type": "code",
   "execution_count": null,
   "metadata": {},
   "outputs": [],
   "source": [
    "def det(a, b):\n",
    "    return a[0] * b[1] - a[1] * b[0]\n",
    "\n",
    "def line_intersection(line1, line2):\n",
    "    x_diff = (line1[0][0] - line1[1][0], line2[0][0] - line2[1][0])\n",
    "    y_diff = (line1[0][1] - line1[1][1], line2[0][1] - line2[1][1])\n",
    "\n",
    "    div = det(x_diff, y_diff)\n",
    "    if div == 0:\n",
    "        return None\n",
    "\n",
    "    d = (det(*line1), det(*line2))\n",
    "    x = det(d, x_diff) / div\n",
    "    y = det(d, y_diff) / div\n",
    "\n",
    "    return [x, y]\n",
    "\n",
    "def find_intersections(lines):\n",
    "    intersections = []\n",
    "    for i, line_1 in enumerate(lines):\n",
    "        for line_2 in lines[i + 1:]:\n",
    "            if not line_1 == line_2:\n",
    "                intersection = line_intersection(line_1, line_2)\n",
    "                if intersection:\n",
    "                    intersections.append(intersection)\n",
    "\n",
    "    return intersections"
   ]
  },
  {
   "cell_type": "code",
   "execution_count": null,
   "metadata": {},
   "outputs": [],
   "source": [
    "def get_vertical_lines(image , side):\n",
    "    img = image\n",
    "    selectedLines = []\n",
    "    selectedLinesParams = []\n",
    "    linesFound = False\n",
    "    BlueRedMask = 100\n",
    "    \n",
    "    \n",
    "    \n",
    "    \n",
    "    while linesFound == False:\n",
    "        hsv = cv2.cvtColor(img, cv2.COLOR_BGR2HSV)\n",
    "        mask = cv2.inRange(hsv, (35, BlueRedMask, BlueRedMask), (70, 255,255))\n",
    "        # boolean ndarray\n",
    "        imask = mask>0\n",
    "        green = np.zeros_like(img, np.uint8)\n",
    "        green[imask] = img[imask]\n",
    "        gray = cv2.cvtColor(img,cv2.COLOR_BGR2GRAY)\n",
    "        # v = np.median(green)\n",
    "        # sigma = 0.33\n",
    "        # lower = int(max(0, (1.0 - sigma) * v))\n",
    "        # upper = int(min(255, (1.0 + sigma) * v))\n",
    "        cv2.imwrite('green.jpg', green)\n",
    "        edges = cv2.Canny(green,150,250,apertureSize = 3) \n",
    "        # minLineLength = 1\n",
    "        # maxLineGap = 1250\n",
    "        lines = cv2.HoughLines(edges,1,np.pi/180, 200)\n",
    "        if lines.any():\n",
    "            if len(lines) > 2:  \n",
    "                linesFound = True  \n",
    "            else: \n",
    "                BlueRedMask -= 10\n",
    "\n",
    "    \n",
    "    \n",
    "    linesFound = False\n",
    "    \n",
    "    if side == 'left':\n",
    "    \tangleMaxLimit = 20\n",
    "    \tangleMinLimit = 70\n",
    "    else:\n",
    "    \tangleMaxLimit = 150\n",
    "    \tangleMinLimit = 105\n",
    "    \n",
    "    rLimit = 300\n",
    "    while linesFound == False:\n",
    "        for line in lines: \n",
    "            for r,theta in line:\n",
    "                isLineValid = True\n",
    "                a = np.cos(theta) \n",
    "                b = np.sin(theta)\n",
    "                \n",
    "                if (theta * 180 * 7 / 22) > angleMinLimit and (theta * 180 * 7 / 22) < angleMaxLimit:\n",
    "                    #print(theta * 180 * 7 / 22 , r)\n",
    "                    x0 = a*r \n",
    "                    y0 = b*r \n",
    "                    x1 = int(x0 + 1000*(-b)) \n",
    "                    y1 = int(y0 + 1000*(a)) \n",
    "                    x2 = int(x0 - 1000*(-b)) \n",
    "                    y2 = int(y0 - 1000*(a))\n",
    "                    \n",
    "                    #cv2.line(image,(x1,y1), (x2,y2), (0,0,255),1)\n",
    "                    \n",
    "                    \n",
    "                    if len(selectedLines) > 0: \n",
    "                        for lineParams in selectedLinesParams:\n",
    "                            #print(abs(lineParams[0] - r))\n",
    "                            if abs(lineParams[0] - r) < rLimit:\n",
    "                                isLineValid = False\n",
    "                        for selectedLine in selectedLines:\n",
    "                            if not line_intersection(selectedLine, [[x1,y1],[x2,y2]]):\n",
    "                                isLineValid = False\n",
    "                        if [[x1,y1],[x2,y2]] in selectedLines or [[x2,y2],[x1,y1]] in selectedLines:\n",
    "                            isLineValid = False\n",
    "                    if isLineValid:\n",
    "                        #print(\"P\")\n",
    "                        selectedLines.append([[x1,y1],[x2,y2]])\n",
    "                        print(x1,y1,x2,y2)\n",
    "                        selectedLinesParams.append([r, theta])\n",
    "                        cv2.line(image,(x1,y1), (x2,y2), (0,0,255),1)\n",
    "                        cv2.putText(image, str((theta * 180 * 7 / 22)) ,(int((x2))  ,  int((y2))) , cv2.FONT_HERSHEY_SIMPLEX, 1, (200,255,155), 2, cv2.LINE_AA)\n",
    "                        cv2.putText(image, str((theta * 180 * 7 / 22)) ,(int((x1))  ,  int((y1))) , cv2.FONT_HERSHEY_SIMPLEX, 1, (200,255,155), 2, cv2.LINE_AA)\n",
    "        if len(selectedLines) < 2:\n",
    "            if rLimit >= 75:\n",
    "                rLimit -= 10\n",
    "            else:\n",
    "                angleMinLimit -= 1\n",
    "                angleMaxLimit += 1\n",
    "                rlimit = 100\n",
    "        else:\n",
    "            #for par in selectedLinesParams:\n",
    "            #\tprint( \"Angle\", (par[1]*180*7)/22)\n",
    "            linesFound = True\n",
    "        \n",
    "    return selectedLines\n"
   ]
  },
  {
   "cell_type": "code",
   "execution_count": null,
   "metadata": {},
   "outputs": [],
   "source": [
    "def get_vertical_vanishing_point(img , side):\n",
    "    \n",
    "    selectedLines = get_vertical_lines(img , side)\n",
    "    intersectionPoints = find_intersections(selectedLines)\n",
    "    vanishingPointX = 0.0\n",
    "    vanishingPointY = 0.0\n",
    "    for point in intersectionPoints:\n",
    "        vanishingPointX += point[0]\n",
    "        vanishingPointY += point[1]\n",
    "    # print(selectedLines)\n",
    "\n",
    "    return (vanishingPointX/len(intersectionPoints), vanishingPointY/len(intersectionPoints))"
   ]
  }
 ],
 "metadata": {
  "kernelspec": {
   "display_name": "offside-detection",
   "language": "python",
   "name": "python3"
  },
  "language_info": {
   "codemirror_mode": {
    "name": "ipython",
    "version": 3
   },
   "file_extension": ".py",
   "mimetype": "text/x-python",
   "name": "python",
   "nbconvert_exporter": "python",
   "pygments_lexer": "ipython3",
   "version": "3.7.6"
  },
  "orig_nbformat": 4,
  "vscode": {
   "interpreter": {
    "hash": "6bfd85765c5ffcbf8e336fb191041aaab5a0320559c424a271198fe65499ecb6"
   }
  }
 },
 "nbformat": 4,
 "nbformat_minor": 2
}
